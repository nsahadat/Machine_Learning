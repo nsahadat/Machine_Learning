{
 "cells": [
  {
   "cell_type": "code",
   "execution_count": 50,
   "id": "d4517361-9810-450e-a030-bf91eee84c01",
   "metadata": {},
   "outputs": [],
   "source": [
    "import requests\n",
    "from bs4 import BeautifulSoup\n",
    "import pandas as pd\n",
    "\n",
    "# URL of the website you want to scrape\n",
    "url = 'https://news.ycombinator.com'\n",
    "\n",
    "# Send a GET request to the URL\n",
    "response = requests.get(url)\n",
    "\n",
    "# Check if the request was successful (status code 200)\n",
    "if response.status_code == 200:\n",
    "    # Parse the HTML content of the page\n",
    "    soup = BeautifulSoup(response.text, 'html.parser')\n",
    "\n",
    "    # Assuming the data is in an HTML table, find the table\n",
    "    table = soup.find('table')\n",
    "\n",
    "    # Extract data from the table\n",
    "    data = []\n",
    "    for row in table.find_all('tr'):\n",
    "        row_data = [cell.text.strip() for cell in row.find_all(['td', 'th'])]\n",
    "        data.append(row_data)\n",
    "else:\n",
    "    print(f\"Failed to retrieve the webpage. Status code: {response.status_code}\")\n"
   ]
  },
  {
   "cell_type": "code",
   "execution_count": 51,
   "id": "b12e434c-1d65-4fcc-809d-4e2f0e5304d6",
   "metadata": {},
   "outputs": [],
   "source": [
    "import re\n",
    "title_comments = []\n",
    "for i, post in enumerate(data[3][0].split('\\n\\n\\n\\n')):\n",
    "    # print(post.split('|')[0].split('\\n')[0])\n",
    "    # print(post.split('|')[2])\n",
    "    # print(re.findall(r'\\d+', post.split('|')[2]))\n",
    "    \n",
    "    if len(post.split('|'))>2 and len(re.findall(r'\\d+', post.split('|')[2])) > 0:\n",
    "        title_comments.append([post.split('|')[0].split('\\n')[0], int(re.findall(r'\\d+', post.split('|')[2])[0])])\n",
    "    else:\n",
    "        title_comments.append([post.split('|')[0].split('\\n')[0],0])\n"
   ]
  },
  {
   "cell_type": "code",
   "execution_count": 52,
   "id": "6e70f18e-5262-476d-bd97-82bc13880d93",
   "metadata": {},
   "outputs": [],
   "source": [
    "title_comments = sorted(title_comments, key=lambda x:x[1], reverse = True)"
   ]
  },
  {
   "cell_type": "code",
   "execution_count": 53,
   "id": "10fd7bda-aeaa-486d-a02a-9e98056bcff9",
   "metadata": {},
   "outputs": [
    {
     "name": "stdout",
     "output_type": "stream",
     "text": [
      "['11. Spot Bitcoin ETF receives official approval from the SEC (cointelegraph.com)', 407]\n",
      "[\"3. A battery has replaced Hawaii's last coal plant (canarymedia.com)\", 279]\n",
      "['18. Netflix never used its $1M algorithm (2012) (thenextweb.com)', 250]\n",
      "['17. The biggest losers: Metabolic damage or constrained energy? (physiqonomics.com)', 143]\n",
      "['8. Contra Wirecutter on the IKEA air purifier (2022) (dynomight.net)', 134]\n",
      "['20. Israeli group claims it’s using back channels to censor “inflammatory” content (theintercept.com)', 134]\n",
      "['25. NASA\\'s plan to \"swarm\" Proxima Centauri with tiny probes (sciencealert.com)', 89]\n",
      "['26. Super Mario 64 on the Web (probablykam.github.io)', 73]\n",
      "['22. How to get coworkers to stop giving me ChatGPT-generated suggestions? (workplace.stackexchange.com)', 65]\n",
      "['2. Drawing.garden (drawing.garden)', 61]\n",
      "['6. Shoelace: A library of web components (shoelace.style)', 50]\n",
      "['5. Conditional Git Configuration (scottlowe.org)', 36]\n",
      "[\"27. Invisible Ink: At the CIA's Creative Writing Group (theparisreview.org)\", 36]\n",
      "['9. The memory remains: Permanent memory with systemd and a Rust allocator (darkcoding.net)', 31]\n",
      "['28. The case for better watch typography (2021) (hodinkee.com)', 18]\n",
      "['1. ChatGPT Team (openai.com)', 17]\n",
      "['23. Attempting to engineer microscopic insulin pumps out of a skin bacterium (growbyginkgo.com)', 15]\n",
      "['4. Google lays off hundreds working on its voice-activated assistant – Semafor (semafor.com)', 14]\n",
      "['7. Helio: Libre Music Composition Software (helio.fm)', 12]\n",
      "['24. Tidy First? (henrikwarne.com)', 11]\n",
      "['29. Air Travel Is Not Ready for Electronic Warfare (jeffwise.net)', 10]\n",
      "['21. An Approach to Sound Synthesis with L-Systems (ho.name)', 8]\n",
      "['12. The Worlds of Monopoly (atlasobscura.com)', 6]\n",
      "['30. Notes on a few abnormalities in analysis (2022) (carsengrote.com)', 6]\n",
      "['16. Franz Morat KG TV-computersystem 6800 (randoc.wordpress.com)', 2]\n",
      "['19. History of Xerox Interlisp and BBN-Lisp (interlisp.org)', 2]\n",
      "[\"10. DARPA's air-steered X-65 jet (theregister.com)\", 1]\n",
      "['15. The odd saga of CVE-2012-5639 (lwn.net)', 1]\n"
     ]
    }
   ],
   "source": [
    "for element in title_comments[:-2]:\n",
    "    print(element)"
   ]
  },
  {
   "cell_type": "code",
   "execution_count": null,
   "id": "7895456d-a7ce-4fde-b001-23aa0a5f1784",
   "metadata": {},
   "outputs": [],
   "source": []
  }
 ],
 "metadata": {
  "kernelspec": {
   "display_name": "Python 3 (ipykernel)",
   "language": "python",
   "name": "python3"
  },
  "language_info": {
   "codemirror_mode": {
    "name": "ipython",
    "version": 3
   },
   "file_extension": ".py",
   "mimetype": "text/x-python",
   "name": "python",
   "nbconvert_exporter": "python",
   "pygments_lexer": "ipython3",
   "version": "3.10.13"
  }
 },
 "nbformat": 4,
 "nbformat_minor": 5
}
