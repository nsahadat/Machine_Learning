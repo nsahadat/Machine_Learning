{
 "cells": [
  {
   "cell_type": "code",
   "execution_count": null,
   "id": "6f9f54f3",
   "metadata": {},
   "outputs": [],
   "source": [
    "import sqlite3\n",
    "import chess\n",
    "import chess.pgn\n",
    "from trainAgentOnFly import *"
   ]
  },
  {
   "cell_type": "code",
   "execution_count": null,
   "id": "a9a99fc9",
   "metadata": {},
   "outputs": [],
   "source": [
    "import sqlite3\n",
    "import pandas as pd\n",
    "\n",
    "# 1. Connect to your database\n",
    "conn = sqlite3.connect('chess_games.db')\n",
    "\n",
    "# 2. Write SQL query to JOIN moves and sessions\n",
    "query = \"\"\"\n",
    "SELECT \n",
    "    moves.session_id,\n",
    "    moves.move_number,\n",
    "    moves.move_uci,\n",
    "    moves.player,\n",
    "    moves.fen,\n",
    "    moves.timestamp,\n",
    "    sessions.result\n",
    "FROM moves\n",
    "JOIN sessions ON moves.session_id = sessions.session_id\n",
    "ORDER BY moves.session_id, moves.move_number\n",
    "\"\"\"\n",
    "\n",
    "# 3. Read the result into a Pandas DataFrame\n",
    "df = pd.read_sql_query(query, conn)\n",
    "\n",
    "# Close the database connection\n",
    "conn.close()\n",
    "\n",
    "# 4. Check the data\n",
    "# print(df.head())\n",
    "\n",
    "# 5. OPTIONAL: Map result to reward\n",
    "# For example, player win -> 1, agent win -> -1, draw -> 0\n",
    "df = add_step_rewards(df)\n",
    "\n",
    "# 6. Save prepared data to CSV if needed\n",
    "# df.to_csv(\"chess_moves_with_results.csv\", index=False)\n"
   ]
  },
  {
   "cell_type": "code",
   "execution_count": null,
   "id": "4cdae205",
   "metadata": {},
   "outputs": [],
   "source": [
    "# df.head(20)"
   ]
  },
  {
   "cell_type": "code",
   "execution_count": null,
   "id": "a3b96750",
   "metadata": {},
   "outputs": [],
   "source": [
    "data = prepare_dataset(df)"
   ]
  },
  {
   "cell_type": "code",
   "execution_count": null,
   "id": "e0d186b5",
   "metadata": {},
   "outputs": [],
   "source": [
    "z = 7\n",
    "encode_fen(data[z][\"state\"]).reshape(8,8)"
   ]
  },
  {
   "cell_type": "code",
   "execution_count": null,
   "id": "5a0654d6",
   "metadata": {},
   "outputs": [],
   "source": [
    "print(data[z][\"action\"])\n",
    "print(data[z][\"reward\"])"
   ]
  },
  {
   "cell_type": "code",
   "execution_count": null,
   "id": "ae12a55c",
   "metadata": {},
   "outputs": [],
   "source": [
    "encode_fen(data[z][\"next_state\"]).reshape(8,8)"
   ]
  },
  {
   "cell_type": "code",
   "execution_count": null,
   "id": "e3471948",
   "metadata": {},
   "outputs": [],
   "source": [
    "# encode_fen(data[5][\"next_state\"]).reshape((8,8))"
   ]
  },
  {
   "cell_type": "code",
   "execution_count": null,
   "id": "637f67ca",
   "metadata": {},
   "outputs": [],
   "source": [
    "train_and_save_model(epochs=10000, target_update_freq=1000)"
   ]
  },
  {
   "cell_type": "code",
   "execution_count": null,
   "id": "0710f223",
   "metadata": {},
   "outputs": [],
   "source": [
    "model = ConvChessNet.load(\"conv_chess_model.pth\")\n",
    "\n",
    "# model = ChessNet.load(\"chess_rl_model.pth\")"
   ]
  },
  {
   "cell_type": "code",
   "execution_count": null,
   "id": "4198d58a",
   "metadata": {},
   "outputs": [],
   "source": [
    "model"
   ]
  },
  {
   "cell_type": "code",
   "execution_count": null,
   "id": "38a15081",
   "metadata": {},
   "outputs": [],
   "source": []
  }
 ],
 "metadata": {
  "kernelspec": {
   "display_name": "nsahadat",
   "language": "python",
   "name": "python3"
  },
  "language_info": {
   "codemirror_mode": {
    "name": "ipython",
    "version": 3
   },
   "file_extension": ".py",
   "mimetype": "text/x-python",
   "name": "python",
   "nbconvert_exporter": "python",
   "pygments_lexer": "ipython3",
   "version": "3.10.13"
  }
 },
 "nbformat": 4,
 "nbformat_minor": 5
}
