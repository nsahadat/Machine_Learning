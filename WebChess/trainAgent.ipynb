{
 "cells": [
  {
   "cell_type": "code",
   "execution_count": 1,
   "id": "6f9f54f3",
   "metadata": {},
   "outputs": [],
   "source": [
    "import sqlite3\n",
    "import chess\n",
    "import chess.pgn\n",
    "from trainAgentOnFly import *"
   ]
  },
  {
   "cell_type": "code",
   "execution_count": 2,
   "id": "a9a99fc9",
   "metadata": {},
   "outputs": [],
   "source": [
    "import sqlite3\n",
    "import pandas as pd\n",
    "\n",
    "# 1. Connect to your database\n",
    "conn = sqlite3.connect('chess_games.db')\n",
    "\n",
    "# 2. Write SQL query to JOIN moves and sessions\n",
    "query = \"\"\"\n",
    "SELECT \n",
    "    moves.session_id,\n",
    "    moves.move_number,\n",
    "    moves.move_uci,\n",
    "    moves.player,\n",
    "    moves.fen,\n",
    "    moves.timestamp,\n",
    "    sessions.result\n",
    "FROM moves\n",
    "JOIN sessions ON moves.session_id = sessions.session_id\n",
    "ORDER BY moves.session_id, moves.move_number\n",
    "\"\"\"\n",
    "\n",
    "# 3. Read the result into a Pandas DataFrame\n",
    "df = pd.read_sql_query(query, conn)\n",
    "\n",
    "# Close the database connection\n",
    "conn.close()\n",
    "\n",
    "# 4. Check the data\n",
    "# print(df.head())\n",
    "\n",
    "# 5. OPTIONAL: Map result to reward\n",
    "# For example, player win -> 1, agent win -> -1, draw -> 0\n",
    "df = add_step_rewards(df)\n",
    "\n",
    "# 6. Save prepared data to CSV if needed\n",
    "# df.to_csv(\"chess_moves_with_results.csv\", index=False)\n"
   ]
  },
  {
   "cell_type": "code",
   "execution_count": 3,
   "id": "4cdae205",
   "metadata": {},
   "outputs": [],
   "source": [
    "# df.head(20)"
   ]
  },
  {
   "cell_type": "code",
   "execution_count": 4,
   "id": "a3b96750",
   "metadata": {},
   "outputs": [],
   "source": [
    "data = prepare_dataset(df)"
   ]
  },
  {
   "cell_type": "code",
   "execution_count": 5,
   "id": "e0d186b5",
   "metadata": {},
   "outputs": [
    {
     "data": {
      "text/plain": [
       "tensor([[ 4.,  2.,  3.,  5.,  6.,  3.,  0.,  4.],\n",
       "        [ 0.,  1.,  1.,  0.,  1.,  1.,  1.,  1.],\n",
       "        [ 1.,  0.,  0.,  0.,  0.,  0.,  0.,  2.],\n",
       "        [ 0.,  0.,  0.,  7.,  0.,  0.,  0.,  0.],\n",
       "        [ 0.,  0.,  9.,  0.,  0.,  0.,  0.,  0.],\n",
       "        [ 0.,  0.,  0.,  0.,  0., 11.,  0.,  0.],\n",
       "        [ 7.,  7.,  7.,  7.,  0.,  7.,  7.,  7.],\n",
       "        [10.,  8.,  9.,  0., 12.,  0.,  8., 10.]])"
      ]
     },
     "execution_count": 5,
     "metadata": {},
     "output_type": "execute_result"
    }
   ],
   "source": [
    "z = 7\n",
    "encode_fen(data[z][\"state\"]).reshape(8,8)"
   ]
  },
  {
   "cell_type": "code",
   "execution_count": 6,
   "id": "5a0654d6",
   "metadata": {},
   "outputs": [
    {
     "name": "stdout",
     "output_type": "stream",
     "text": [
      "b7b5\n",
      "-0.01\n"
     ]
    }
   ],
   "source": [
    "print(data[z][\"action\"])\n",
    "print(data[z][\"reward\"])"
   ]
  },
  {
   "cell_type": "code",
   "execution_count": 7,
   "id": "ae12a55c",
   "metadata": {},
   "outputs": [
    {
     "data": {
      "text/plain": [
       "tensor([[ 4.,  2.,  3.,  5.,  6.,  3.,  0.,  4.],\n",
       "        [ 0.,  0.,  1.,  0.,  1.,  1.,  1.,  1.],\n",
       "        [ 1.,  0.,  0.,  0.,  0.,  0.,  0.,  2.],\n",
       "        [ 0.,  1.,  0.,  7.,  0.,  0.,  0.,  0.],\n",
       "        [ 0.,  0.,  9.,  0.,  0.,  0.,  0.,  0.],\n",
       "        [ 0.,  0.,  0.,  0.,  0., 11.,  0.,  0.],\n",
       "        [ 7.,  7.,  7.,  7.,  0.,  7.,  7.,  7.],\n",
       "        [10.,  8.,  9.,  0., 12.,  0.,  8., 10.]])"
      ]
     },
     "execution_count": 7,
     "metadata": {},
     "output_type": "execute_result"
    }
   ],
   "source": [
    "encode_fen(data[z][\"next_state\"]).reshape(8,8)"
   ]
  },
  {
   "cell_type": "code",
   "execution_count": 8,
   "id": "e3471948",
   "metadata": {},
   "outputs": [],
   "source": [
    "# encode_fen(data[5][\"next_state\"]).reshape((8,8))"
   ]
  },
  {
   "cell_type": "code",
   "execution_count": null,
   "id": "637f67ca",
   "metadata": {},
   "outputs": [
    {
     "name": "stdout",
     "output_type": "stream",
     "text": [
      "Number of sessions in the dataset: 54\n",
      "Epoch 1/1000 | Loss: 1.7931\n",
      "Epoch 11/1000 | Loss: 2.0132\n",
      "Epoch 21/1000 | Loss: 0.1918\n",
      "Epoch 31/1000 | Loss: 0.0855\n",
      "Epoch 41/1000 | Loss: 0.0196\n",
      "Epoch 51/1000 | Loss: 0.0109\n",
      "Epoch 61/1000 | Loss: 0.0246\n",
      "Epoch 71/1000 | Loss: 0.0181\n",
      "Epoch 81/1000 | Loss: 0.0254\n",
      "Epoch 91/1000 | Loss: 0.0053\n",
      "Epoch 101/1000 | Loss: 0.0108\n",
      "Epoch 111/1000 | Loss: 0.1943\n",
      "Epoch 121/1000 | Loss: 0.0634\n",
      "Epoch 131/1000 | Loss: 0.0661\n",
      "Epoch 141/1000 | Loss: 0.0182\n",
      "Epoch 151/1000 | Loss: 0.0321\n",
      "Epoch 161/1000 | Loss: 0.0337\n",
      "Epoch 171/1000 | Loss: 0.1262\n",
      "Epoch 181/1000 | Loss: 0.0457\n",
      "Epoch 191/1000 | Loss: 0.1177\n",
      "Epoch 201/1000 | Loss: 0.0238\n",
      "Epoch 211/1000 | Loss: 0.1012\n",
      "Epoch 221/1000 | Loss: 0.1923\n",
      "Epoch 231/1000 | Loss: 0.0575\n",
      "Epoch 241/1000 | Loss: 0.1290\n",
      "Epoch 251/1000 | Loss: 0.0538\n",
      "Epoch 261/1000 | Loss: 0.0441\n",
      "Epoch 271/1000 | Loss: 0.0468\n",
      "Epoch 281/1000 | Loss: 0.1171\n",
      "Epoch 291/1000 | Loss: 0.4468\n",
      "Epoch 301/1000 | Loss: 0.0824\n",
      "Epoch 311/1000 | Loss: 0.2483\n",
      "Epoch 321/1000 | Loss: 0.1719\n",
      "Epoch 331/1000 | Loss: 0.0544\n",
      "Epoch 341/1000 | Loss: 0.1405\n",
      "Epoch 351/1000 | Loss: 0.1993\n",
      "Epoch 361/1000 | Loss: 0.0536\n",
      "Epoch 371/1000 | Loss: 0.0864\n",
      "Epoch 381/1000 | Loss: 0.0897\n",
      "Epoch 391/1000 | Loss: 0.1596\n",
      "Epoch 401/1000 | Loss: 0.1458\n",
      "Epoch 411/1000 | Loss: 0.3015\n",
      "Epoch 421/1000 | Loss: 0.0814\n",
      "Epoch 431/1000 | Loss: 0.0438\n",
      "Epoch 441/1000 | Loss: 0.8928\n",
      "Epoch 451/1000 | Loss: 0.3219\n",
      "Epoch 461/1000 | Loss: 0.3397\n",
      "Epoch 471/1000 | Loss: 0.8230\n",
      "Epoch 481/1000 | Loss: 0.4262\n",
      "Epoch 491/1000 | Loss: 0.4684\n",
      "Epoch 501/1000 | Loss: 0.2984\n",
      "Epoch 511/1000 | Loss: 0.0926\n",
      "Epoch 521/1000 | Loss: 1.5913\n",
      "Epoch 531/1000 | Loss: 0.2176\n",
      "Epoch 541/1000 | Loss: 0.1444\n",
      "Epoch 551/1000 | Loss: 0.3570\n",
      "Epoch 561/1000 | Loss: 0.4800\n",
      "Epoch 571/1000 | Loss: 0.1680\n",
      "Epoch 581/1000 | Loss: 0.1125\n",
      "Epoch 591/1000 | Loss: 0.0533\n",
      "Epoch 601/1000 | Loss: 1.0366\n",
      "Epoch 611/1000 | Loss: 0.5222\n",
      "Epoch 621/1000 | Loss: 1.7582\n",
      "Epoch 631/1000 | Loss: 0.7778\n",
      "Epoch 641/1000 | Loss: 0.2030\n",
      "Epoch 651/1000 | Loss: 0.3445\n",
      "Epoch 661/1000 | Loss: 0.3402\n",
      "Epoch 671/1000 | Loss: 0.4562\n",
      "Epoch 681/1000 | Loss: 0.4348\n",
      "Epoch 691/1000 | Loss: 0.6224\n",
      "Epoch 701/1000 | Loss: 0.4726\n",
      "Epoch 711/1000 | Loss: 0.9726\n",
      "Epoch 721/1000 | Loss: 0.4811\n",
      "Epoch 731/1000 | Loss: 0.2052\n",
      "Epoch 741/1000 | Loss: 0.2342\n",
      "Epoch 751/1000 | Loss: 0.4641\n",
      "Epoch 761/1000 | Loss: 0.7767\n",
      "Epoch 771/1000 | Loss: 1.1704\n",
      "Epoch 781/1000 | Loss: 0.5832\n",
      "Epoch 791/1000 | Loss: 0.3626\n",
      "Epoch 801/1000 | Loss: 0.5090\n",
      "Epoch 811/1000 | Loss: 1.1460\n",
      "Epoch 821/1000 | Loss: 0.3273\n",
      "Epoch 831/1000 | Loss: 0.2572\n",
      "Epoch 841/1000 | Loss: 0.8903\n",
      "Epoch 851/1000 | Loss: 0.4406\n",
      "Epoch 861/1000 | Loss: 0.5634\n",
      "Epoch 871/1000 | Loss: 0.8894\n",
      "Epoch 881/1000 | Loss: 0.1050\n",
      "Epoch 891/1000 | Loss: 0.3724\n",
      "Epoch 901/1000 | Loss: 1.7904\n",
      "Epoch 911/1000 | Loss: 1.5186\n",
      "Epoch 921/1000 | Loss: 1.3431\n",
      "Epoch 931/1000 | Loss: 0.5166\n",
      "Epoch 941/1000 | Loss: 0.5906\n",
      "Epoch 951/1000 | Loss: 0.4942\n",
      "Epoch 961/1000 | Loss: 0.9249\n",
      "Epoch 971/1000 | Loss: 0.3223\n",
      "Epoch 981/1000 | Loss: 2.1569\n",
      "Epoch 991/1000 | Loss: 0.4796\n",
      "✅ Model saved as chess_rl_model.pth\n"
     ]
    }
   ],
   "source": [
    "train_and_save_model(epochs=500, target_update_freq=100, shuffle=False)"
   ]
  },
  {
   "cell_type": "code",
   "execution_count": 10,
   "id": "0710f223",
   "metadata": {},
   "outputs": [],
   "source": [
    "model = ConvChessNet.load(\"conv_chess_model.pth\")\n",
    "\n",
    "# model = ChessNet.load(\"chess_rl_model.pth\")"
   ]
  },
  {
   "cell_type": "code",
   "execution_count": 11,
   "id": "4198d58a",
   "metadata": {},
   "outputs": [
    {
     "data": {
      "text/plain": [
       "ConvChessNet(\n",
       "  (conv1): Conv2d(12, 32, kernel_size=(3, 3), stride=(1, 1), padding=(1, 1))\n",
       "  (conv2): Conv2d(32, 64, kernel_size=(3, 3), stride=(1, 1), padding=(1, 1))\n",
       "  (fc1): Linear(in_features=4096, out_features=256, bias=True)\n",
       "  (fc2): Linear(in_features=256, out_features=4608, bias=True)\n",
       ")"
      ]
     },
     "execution_count": 11,
     "metadata": {},
     "output_type": "execute_result"
    }
   ],
   "source": [
    "model"
   ]
  },
  {
   "cell_type": "code",
   "execution_count": null,
   "id": "38a15081",
   "metadata": {},
   "outputs": [],
   "source": []
  }
 ],
 "metadata": {
  "kernelspec": {
   "display_name": "nsahadat",
   "language": "python",
   "name": "python3"
  },
  "language_info": {
   "codemirror_mode": {
    "name": "ipython",
    "version": 3
   },
   "file_extension": ".py",
   "mimetype": "text/x-python",
   "name": "python",
   "nbconvert_exporter": "python",
   "pygments_lexer": "ipython3",
   "version": "3.10.13"
  }
 },
 "nbformat": 4,
 "nbformat_minor": 5
}
