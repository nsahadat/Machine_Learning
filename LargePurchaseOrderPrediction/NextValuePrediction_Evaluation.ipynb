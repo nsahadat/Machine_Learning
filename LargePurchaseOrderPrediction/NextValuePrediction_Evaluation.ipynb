{
 "cells": [
  {
   "cell_type": "code",
   "execution_count": 1,
   "id": "dental-shadow",
   "metadata": {},
   "outputs": [],
   "source": [
    "import pandas as pd\n",
    "import numpy as np"
   ]
  },
  {
   "cell_type": "markdown",
   "id": "motivated-czech",
   "metadata": {},
   "source": [
    "## Read Data"
   ]
  },
  {
   "cell_type": "code",
   "execution_count": 2,
   "id": "sitting-likelihood",
   "metadata": {},
   "outputs": [],
   "source": [
    "from transformers import AutoModelForCausalLM, AutoTokenizer\n",
    "from datasets import load_dataset, Dataset\n",
    "from trl import SFTTrainer"
   ]
  },
  {
   "cell_type": "code",
   "execution_count": 3,
   "id": "eebb92a0-d7b7-4285-807a-578efd8612bc",
   "metadata": {},
   "outputs": [],
   "source": [
    "# !nvidia-smi -L"
   ]
  },
  {
   "cell_type": "code",
   "execution_count": 4,
   "id": "aware-person",
   "metadata": {},
   "outputs": [],
   "source": [
    "peft_model_id=\"gpt2_finetuned\""
   ]
  },
  {
   "cell_type": "markdown",
   "id": "sufficient-bracelet",
   "metadata": {},
   "source": [
    "## Evaluate the test data"
   ]
  },
  {
   "cell_type": "code",
   "execution_count": 5,
   "id": "democratic-manchester",
   "metadata": {},
   "outputs": [
    {
     "data": {
      "text/plain": [
       "GPT2LMHeadModel(\n",
       "  (transformer): GPT2Model(\n",
       "    (wte): Embedding(50257, 768)\n",
       "    (wpe): Embedding(1024, 768)\n",
       "    (drop): Dropout(p=0.1, inplace=False)\n",
       "    (h): ModuleList(\n",
       "      (0-5): 6 x GPT2Block(\n",
       "        (ln_1): LayerNorm((768,), eps=1e-05, elementwise_affine=True)\n",
       "        (attn): GPT2Attention(\n",
       "          (c_attn): Conv1D()\n",
       "          (c_proj): Conv1D()\n",
       "          (attn_dropout): Dropout(p=0.1, inplace=False)\n",
       "          (resid_dropout): Dropout(p=0.1, inplace=False)\n",
       "        )\n",
       "        (ln_2): LayerNorm((768,), eps=1e-05, elementwise_affine=True)\n",
       "        (mlp): GPT2MLP(\n",
       "          (c_fc): Conv1D()\n",
       "          (c_proj): Conv1D()\n",
       "          (act): NewGELUActivation()\n",
       "          (dropout): Dropout(p=0.1, inplace=False)\n",
       "        )\n",
       "      )\n",
       "    )\n",
       "    (ln_f): LayerNorm((768,), eps=1e-05, elementwise_affine=True)\n",
       "  )\n",
       "  (lm_head): Linear(in_features=768, out_features=50257, bias=False)\n",
       ")"
      ]
     },
     "execution_count": 5,
     "metadata": {},
     "output_type": "execute_result"
    }
   ],
   "source": [
    "model = AutoModelForCausalLM.from_pretrained(f'./{peft_model_id}')\n",
    "tokenizer = AutoTokenizer.from_pretrained(f'./{peft_model_id}')\n",
    "model.eval()"
   ]
  },
  {
   "cell_type": "code",
   "execution_count": 6,
   "id": "infinite-store",
   "metadata": {},
   "outputs": [],
   "source": [
    "dataset_test = Dataset.from_pandas(pd.read_csv('./Data/hugging_face_test.csv'))"
   ]
  },
  {
   "cell_type": "code",
   "execution_count": 7,
   "id": "declared-wisconsin",
   "metadata": {},
   "outputs": [],
   "source": [
    "# dataset_test['text']"
   ]
  },
  {
   "cell_type": "code",
   "execution_count": 8,
   "id": "ongoing-whale",
   "metadata": {},
   "outputs": [],
   "source": [
    "from random import randrange"
   ]
  },
  {
   "cell_type": "code",
   "execution_count": 9,
   "id": "educational-anchor",
   "metadata": {},
   "outputs": [
    {
     "name": "stdout",
     "output_type": "stream",
     "text": [
      "Below is an instruction that describes a task, paired with an input that provides further context. Write a response that appropriately completes the request.\n",
      "\n",
      "### Instruction:\n",
      "what are the values of Fiscal Year,Department Name,CalCard,Unit Price,\n",
      "\n",
      "### Input:\n",
      "Creation Date 04/14/2014 Purchase Date 04/14/2014 LPA Number nan Purchase Order Number 4500228479 Requisition Number nan Acquisition Type NON-IT Goods Sub-Acquisition Type nan Acquisition Method Fair and Reasonable Sub-Acquisition Method nan Supplier Code 1763613.0 Supplier Name Bay Medical Co., Inc Supplier Qualifications CA-SB CA-SBE DBE MBE MOSB SB Supplier Zip Code nan Item Name Take Tablets Label  17915 Item Description Take Tablets Label  17915 Quantity 6.0 Total Price $93.24 Classification Codes 42142301 Normalized UNSPSC 42142301.0 Commodity Title General use medical labels Class 42142300.0 Class Title Medical documentation products Family 42140000.0 Family Title Patient care and treatment products and supplies Segment 42000000.0 Segment Title Medical Equipment and Accessories and Supplies Location nan \n",
      "\n",
      "### Response:\n",
      "2013-2014, Correctional Health Care Services, NO, $15.54, \n"
     ]
    }
   ],
   "source": [
    "sample = dataset_test['text'][randrange(len(dataset_test[\"text\"]))]\n",
    "print(f'{sample}')"
   ]
  },
  {
   "cell_type": "code",
   "execution_count": 10,
   "id": "87e7db62-6884-43b0-b275-740eb1dc9b59",
   "metadata": {},
   "outputs": [],
   "source": [
    "ind = sample.find('### Response:') + 13\n",
    "ground_truth_len = len(sample)-ind"
   ]
  },
  {
   "cell_type": "code",
   "execution_count": 11,
   "id": "diverse-tumor",
   "metadata": {},
   "outputs": [],
   "source": [
    "input_ids = tokenizer(sample[:ind], return_tensors=\"pt\", truncation=True)#.input_ids.cuda()"
   ]
  },
  {
   "cell_type": "code",
   "execution_count": 12,
   "id": "wireless-token",
   "metadata": {},
   "outputs": [
    {
     "name": "stderr",
     "output_type": "stream",
     "text": [
      "Setting `pad_token_id` to `eos_token_id`:50256 for open-end generation.\n"
     ]
    }
   ],
   "source": [
    "import torch\n",
    "with torch.no_grad():\n",
    "    outputs = tokenizer.batch_decode(model.generate(**input_ids, \n",
    "                                                     max_new_tokens=40, \n",
    "                                                     do_sample=True, \n",
    "                                                     top_p=0.9, \n",
    "                                                     temperature=0.9\n",
    "                                                   ),\n",
    "                                     skip_special_tokens=True,\n",
    "                                    pad_token_id = '')[0]\n",
    "    #return_dict_in_generate=True, output_scores=True)"
   ]
  },
  {
   "cell_type": "code",
   "execution_count": 13,
   "id": "e723c172-320b-4516-9446-7b1dfc02425e",
   "metadata": {},
   "outputs": [],
   "source": [
    "ind_out = outputs.find('### Response:')"
   ]
  },
  {
   "cell_type": "code",
   "execution_count": 14,
   "id": "senior-verse",
   "metadata": {},
   "outputs": [
    {
     "name": "stdout",
     "output_type": "stream",
     "text": [
      "### Response:\n",
      "2013-2014, Correctional Health Care Services, NO, $12.28,ra\n"
     ]
    }
   ],
   "source": [
    "print(f'{outputs[ind_out:ind_out+ground_truth_len+13]}')"
   ]
  },
  {
   "cell_type": "code",
   "execution_count": 15,
   "id": "2c5e3a65-5764-4d3d-ab57-d28349250962",
   "metadata": {},
   "outputs": [],
   "source": [
    "# outputs"
   ]
  },
  {
   "cell_type": "markdown",
   "id": "45b28a9e-88c2-4b50-8099-41ece154df16",
   "metadata": {},
   "source": [
    "## Prediction all Test Cases"
   ]
  },
  {
   "cell_type": "code",
   "execution_count": 74,
   "id": "4a1a958a-6055-423b-8076-ba4144df55c3",
   "metadata": {},
   "outputs": [],
   "source": [
    "# ground_truth = []\n",
    "# predicted = []\n",
    "# for i, sample in enumerate(dataset_test['text']):\n",
    "#     ind = sample.find('### Response:') + 13\n",
    "#     ground_truth_len = len(sample)-ind\n",
    "#     input_ids = tokenizer(sample[:ind], return_tensors=\"pt\", truncation=True)\n",
    "\n",
    "#     # print(f'ground truth: {sample[ind:]}')\n",
    "#     ground_truth.append(sample[ind:])\n",
    "#     with torch.no_grad():\n",
    "#         outputs = tokenizer.batch_decode(model.generate(**input_ids, \n",
    "#                                                          max_new_tokens=40, \n",
    "#                                                          do_sample=True, \n",
    "#                                                          top_p=0.9, \n",
    "#                                                          temperature=0.9\n",
    "#                                                        ),\n",
    "#                                          skip_special_tokens=True,\n",
    "#                                         pad_token_id = '')[0]\n",
    "    \n",
    "    \n",
    "#     ind_out = outputs.find('### Response:')+13\n",
    "#     # print(f'predicted: {outputs[ind_out:ind_out+ground_truth_len]}')\n",
    "#     predicted.append(outputs[ind_out:ind_out+ground_truth_len])"
   ]
  },
  {
   "cell_type": "code",
   "execution_count": 75,
   "id": "5759e116-9458-4f66-95fe-2dabea2b55ca",
   "metadata": {},
   "outputs": [],
   "source": [
    "# results = pd.DataFrame()\n",
    "# results['groundTruth'] = ground_truth\n",
    "# results['predicted'] = predicted\n",
    "\n",
    "# results.to_csv('predicted_value_imputation.csv', index=False)"
   ]
  },
  {
   "cell_type": "code",
   "execution_count": 81,
   "id": "36f22ea2-6f8a-41e8-b093-1a4b87064bd4",
   "metadata": {},
   "outputs": [],
   "source": [
    "results = pd.read_csv('predicted_value_imputation.csv')"
   ]
  },
  {
   "cell_type": "code",
   "execution_count": 82,
   "id": "3829a8f5-6c44-4b02-a432-134313b8f1b3",
   "metadata": {},
   "outputs": [],
   "source": [
    "# !pip install evaluate\n",
    "# !pip install sklearn\n",
    "# !pip install scikit-learn\n",
    "# !pip install editdistance"
   ]
  },
  {
   "cell_type": "code",
   "execution_count": 83,
   "id": "29a9a876-c9f6-4203-823e-a33a4aefe74c",
   "metadata": {},
   "outputs": [
    {
     "data": {
      "text/plain": [
       "Index(['groundTruth', 'predicted'], dtype='object')"
      ]
     },
     "execution_count": 83,
     "metadata": {},
     "output_type": "execute_result"
    }
   ],
   "source": [
    "results.columns"
   ]
  },
  {
   "cell_type": "code",
   "execution_count": 84,
   "id": "1f2bf92f-60c6-4e67-9eca-1efd60d32756",
   "metadata": {},
   "outputs": [],
   "source": [
    "import evaluate\n",
    "# accuracy = evaluate.load('accuracy')\n",
    "clf_metrics = evaluate.combine([\"accuracy\"])#, \"f1\", \"precision\", \"recall\"])"
   ]
  },
  {
   "cell_type": "code",
   "execution_count": 85,
   "id": "161710be-dd66-44c9-b562-4f0cdd137dda",
   "metadata": {},
   "outputs": [],
   "source": [
    "# for i in range(results.shape[0]):\n",
    "for ref, pred in zip(tokenizer(results.groundTruth.to_list())['input_ids'], tokenizer(results.predicted.to_list())['input_ids']):\n",
    "    min_len = min(len(ref), len(pred))\n",
    "    clf_metrics.add_batch(references=ref[:min_len], predictions=pred[:min_len])\n"
   ]
  },
  {
   "cell_type": "code",
   "execution_count": 86,
   "id": "839a6f8b-1871-4d1d-a808-c9d773667ab6",
   "metadata": {},
   "outputs": [
    {
     "name": "stdout",
     "output_type": "stream",
     "text": [
      "Overall prediction accuracy: {'accuracy': 0.7191939783597303}\n"
     ]
    }
   ],
   "source": [
    "print(f'Overall prediction accuracy: {clf_metrics.compute()}')"
   ]
  },
  {
   "cell_type": "markdown",
   "id": "64098ea0-0d7f-48c7-ab70-178d14e4bf59",
   "metadata": {},
   "source": [
    "## Edit Distance"
   ]
  },
  {
   "cell_type": "code",
   "execution_count": 87,
   "id": "1ddf936f-825a-43d4-bce1-6727398c92c0",
   "metadata": {},
   "outputs": [],
   "source": [
    "import editdistance"
   ]
  },
  {
   "cell_type": "code",
   "execution_count": 88,
   "id": "75080e16-ecb5-4923-8dcd-3282398ea2e5",
   "metadata": {},
   "outputs": [
    {
     "name": "stdout",
     "output_type": "stream",
     "text": [
      "reference: \n",
      "nan, Duncan Distribution CO LLC, 43221721.0, \n",
      "predicted: \n",
      "nan, Rumex Communications, 43221721.0,      \n",
      "\n",
      "Edit distance: 26\n"
     ]
    }
   ],
   "source": [
    "import random\n",
    "idx = random.randint(0,results.shape[0])\n",
    "value_ref = tokenizer(results.groundTruth.to_list()[idx])['input_ids']\n",
    "ref = results.groundTruth.to_list()[idx]\n",
    "\n",
    "value_pred = tokenizer(results.predicted.to_list()[idx])['input_ids']\n",
    "pred = results.predicted.to_list()[idx]\n",
    "\n",
    "# editdistance.eval(value_ref, value_pred)\n",
    "print(f'reference: {ref}\\npredicted: {pred}')\n",
    "\n",
    "print(f'Edit distance: {editdistance.eval(ref, pred)}')"
   ]
  },
  {
   "cell_type": "markdown",
   "id": "3f06ff14-f2bc-46a6-a20f-7efa59a8ad00",
   "metadata": {},
   "source": [
    "## Total Edit Distance"
   ]
  },
  {
   "cell_type": "code",
   "execution_count": 89,
   "id": "f6f6535c-4d3d-4732-8557-ebab5397e6c9",
   "metadata": {},
   "outputs": [
    {
     "name": "stdout",
     "output_type": "stream",
     "text": [
      "Total edit distance:  524.20, # of prediction: 3461\n",
      "Normalized edit distance:  0.15\n"
     ]
    }
   ],
   "source": [
    "ed_distance = []\n",
    "for ref, pred in zip(results.groundTruth.to_list(), results.predicted.to_list()):\n",
    "    ed_distance.append(editdistance.eval(ref, pred)/max(len(ref), len(pred)))\n",
    "\n",
    "print(f'Total edit distance: {sum(ed_distance): .2f}, # of prediction: {len(ed_distance)}')\n",
    "print(f'Normalized edit distance: {sum(ed_distance)/len(ed_distance) : .2f}')"
   ]
  },
  {
   "cell_type": "code",
   "execution_count": null,
   "id": "2d26c500-5b22-4e06-9768-f25e16733582",
   "metadata": {},
   "outputs": [],
   "source": []
  }
 ],
 "metadata": {
  "kernelspec": {
   "display_name": "Python [conda env:.conda-nsahadat] *",
   "language": "python",
   "name": "conda-env-.conda-nsahadat-py"
  },
  "language_info": {
   "codemirror_mode": {
    "name": "ipython",
    "version": 3
   },
   "file_extension": ".py",
   "mimetype": "text/x-python",
   "name": "python",
   "nbconvert_exporter": "python",
   "pygments_lexer": "ipython3",
   "version": "3.10.13"
  }
 },
 "nbformat": 4,
 "nbformat_minor": 5
}
