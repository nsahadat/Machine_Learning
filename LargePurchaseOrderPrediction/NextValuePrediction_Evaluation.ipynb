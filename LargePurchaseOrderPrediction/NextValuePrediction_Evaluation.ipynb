{
 "cells": [
  {
   "cell_type": "code",
   "execution_count": 1,
   "id": "dental-shadow",
   "metadata": {},
   "outputs": [],
   "source": [
    "import pandas as pd\n",
    "import numpy as np"
   ]
  },
  {
   "cell_type": "markdown",
   "id": "motivated-czech",
   "metadata": {},
   "source": [
    "## Read Data"
   ]
  },
  {
   "cell_type": "code",
   "execution_count": 2,
   "id": "sitting-likelihood",
   "metadata": {},
   "outputs": [],
   "source": [
    "from transformers import AutoModelForCausalLM, AutoTokenizer\n",
    "from datasets import load_dataset, Dataset\n",
    "from trl import SFTTrainer"
   ]
  },
  {
   "cell_type": "code",
   "execution_count": 3,
   "id": "eebb92a0-d7b7-4285-807a-578efd8612bc",
   "metadata": {},
   "outputs": [],
   "source": [
    "# !nvidia-smi -L"
   ]
  },
  {
   "cell_type": "code",
   "execution_count": 4,
   "id": "aware-person",
   "metadata": {},
   "outputs": [],
   "source": [
    "peft_model_id=\"gpt2_finetuned\""
   ]
  },
  {
   "cell_type": "markdown",
   "id": "sufficient-bracelet",
   "metadata": {},
   "source": [
    "## Evaluate the test data"
   ]
  },
  {
   "cell_type": "code",
   "execution_count": 5,
   "id": "democratic-manchester",
   "metadata": {},
   "outputs": [
    {
     "data": {
      "text/plain": [
       "GPT2LMHeadModel(\n",
       "  (transformer): GPT2Model(\n",
       "    (wte): Embedding(50257, 768)\n",
       "    (wpe): Embedding(1024, 768)\n",
       "    (drop): Dropout(p=0.1, inplace=False)\n",
       "    (h): ModuleList(\n",
       "      (0-5): 6 x GPT2Block(\n",
       "        (ln_1): LayerNorm((768,), eps=1e-05, elementwise_affine=True)\n",
       "        (attn): GPT2Attention(\n",
       "          (c_attn): Conv1D()\n",
       "          (c_proj): Conv1D()\n",
       "          (attn_dropout): Dropout(p=0.1, inplace=False)\n",
       "          (resid_dropout): Dropout(p=0.1, inplace=False)\n",
       "        )\n",
       "        (ln_2): LayerNorm((768,), eps=1e-05, elementwise_affine=True)\n",
       "        (mlp): GPT2MLP(\n",
       "          (c_fc): Conv1D()\n",
       "          (c_proj): Conv1D()\n",
       "          (act): NewGELUActivation()\n",
       "          (dropout): Dropout(p=0.1, inplace=False)\n",
       "        )\n",
       "      )\n",
       "    )\n",
       "    (ln_f): LayerNorm((768,), eps=1e-05, elementwise_affine=True)\n",
       "  )\n",
       "  (lm_head): Linear(in_features=768, out_features=50257, bias=False)\n",
       ")"
      ]
     },
     "execution_count": 5,
     "metadata": {},
     "output_type": "execute_result"
    }
   ],
   "source": [
    "model = AutoModelForCausalLM.from_pretrained(f'./{peft_model_id}')\n",
    "tokenizer = AutoTokenizer.from_pretrained(f'./{peft_model_id}')\n",
    "model.eval()"
   ]
  },
  {
   "cell_type": "code",
   "execution_count": 6,
   "id": "infinite-store",
   "metadata": {},
   "outputs": [],
   "source": [
    "dataset_test = Dataset.from_pandas(pd.read_csv('./Data/hugging_face_test.csv'))"
   ]
  },
  {
   "cell_type": "code",
   "execution_count": 7,
   "id": "declared-wisconsin",
   "metadata": {},
   "outputs": [],
   "source": [
    "# dataset_test['text']"
   ]
  },
  {
   "cell_type": "code",
   "execution_count": 8,
   "id": "ongoing-whale",
   "metadata": {},
   "outputs": [],
   "source": [
    "from random import randrange"
   ]
  },
  {
   "cell_type": "code",
   "execution_count": 9,
   "id": "educational-anchor",
   "metadata": {},
   "outputs": [
    {
     "name": "stdout",
     "output_type": "stream",
     "text": [
      "Below is an instruction that describes a task, paired with an input that provides further context. Write a response that appropriately completes the request.\n",
      "\n",
      "### Instruction:\n",
      "what are the values of Purchase Date,Item Description,\n",
      "\n",
      "### Input:\n",
      "Creation Date 07/17/2012 Fiscal Year 2012-2013 LPA Number nan Purchase Order Number 4500142992 Requisition Number nan Acquisition Type NON-IT Goods Sub-Acquisition Type nan Acquisition Method Informal Competitive Sub-Acquisition Method nan Department Name Corrections and Rehabilitation, Department of Supplier Code 50613.0 Supplier Name US Control Group Inc Supplier Qualifications CA-DVBE CA-MB CA-SB CA-SBE CDVBE Supplier Zip Code 90213 CalCard NO Item Name motor Quantity 2.0 Unit Price $170.00 Total Price $340.00 Classification Codes 26101107 Normalized UNSPSC 26101107.0 Commodity Title Pump motor AC Class 26101100.0 Class Title Electric alternating current AC motors Family 26100000.0 Family Title Power sources Segment 26000000.0 Segment Title Power Generation and Distribution Machinery and Accessories Location 90213\n",
      "(34.080294, -118.404679) \n",
      "\n",
      "### Response:\n",
      "07/17/2012, motor 1/2hp 1725rpm 115v b208 marathon, \n"
     ]
    }
   ],
   "source": [
    "sample = dataset_test['text'][randrange(len(dataset_test[\"text\"]))]\n",
    "print(f'{sample}')"
   ]
  },
  {
   "cell_type": "code",
   "execution_count": 10,
   "id": "87e7db62-6884-43b0-b275-740eb1dc9b59",
   "metadata": {},
   "outputs": [],
   "source": [
    "ind = sample.find('### Response:') + 13\n",
    "ground_truth_len = len(sample)-ind"
   ]
  },
  {
   "cell_type": "code",
   "execution_count": 11,
   "id": "diverse-tumor",
   "metadata": {},
   "outputs": [],
   "source": [
    "input_ids = tokenizer(sample[:ind], return_tensors=\"pt\", truncation=True)#.input_ids.cuda()"
   ]
  },
  {
   "cell_type": "code",
   "execution_count": 12,
   "id": "wireless-token",
   "metadata": {},
   "outputs": [
    {
     "name": "stderr",
     "output_type": "stream",
     "text": [
      "Setting `pad_token_id` to `eos_token_id`:50256 for open-end generation.\n"
     ]
    }
   ],
   "source": [
    "import torch\n",
    "with torch.no_grad():\n",
    "    outputs = tokenizer.batch_decode(model.generate(**input_ids, \n",
    "                                                     max_new_tokens=40, \n",
    "                                                     do_sample=True, \n",
    "                                                     top_p=0.9, \n",
    "                                                     temperature=0.9\n",
    "                                                   ),\n",
    "                                     skip_special_tokens=True,\n",
    "                                    pad_token_id = '')[0]\n",
    "    #return_dict_in_generate=True, output_scores=True)"
   ]
  },
  {
   "cell_type": "code",
   "execution_count": 13,
   "id": "e723c172-320b-4516-9446-7b1dfc02425e",
   "metadata": {},
   "outputs": [],
   "source": [
    "ind_out = outputs.find('### Response:')"
   ]
  },
  {
   "cell_type": "code",
   "execution_count": 14,
   "id": "senior-verse",
   "metadata": {},
   "outputs": [
    {
     "name": "stdout",
     "output_type": "stream",
     "text": [
      "### Response:\n",
      "07/16/2012, motor, motor, motor, motor, motor,   \n",
      "\n",
      "##\n"
     ]
    }
   ],
   "source": [
    "print(f'{outputs[ind_out:ind_out+ground_truth_len+13]}')"
   ]
  },
  {
   "cell_type": "code",
   "execution_count": 15,
   "id": "2c5e3a65-5764-4d3d-ab57-d28349250962",
   "metadata": {},
   "outputs": [],
   "source": [
    "# outputs"
   ]
  },
  {
   "cell_type": "markdown",
   "id": "45b28a9e-88c2-4b50-8099-41ece154df16",
   "metadata": {},
   "source": [
    "## Prediction all Test Cases"
   ]
  },
  {
   "cell_type": "code",
   "execution_count": null,
   "id": "4a1a958a-6055-423b-8076-ba4144df55c3",
   "metadata": {},
   "outputs": [],
   "source": [
    "ground_truth = []\n",
    "predicted = []\n",
    "for i, sample in enumerate(dataset_test['text']):\n",
    "    ind = sample.find('### Response:') + 13\n",
    "    ground_truth_len = len(sample)-ind\n",
    "    input_ids = tokenizer(sample[:ind], return_tensors=\"pt\", truncation=True)\n",
    "\n",
    "    # print(f'ground truth: {sample[ind:]}')\n",
    "    ground_truth.append(sample[ind:])\n",
    "    with torch.no_grad():\n",
    "        outputs = tokenizer.batch_decode(model.generate(**input_ids, \n",
    "                                                         max_new_tokens=40, \n",
    "                                                         do_sample=True, \n",
    "                                                         top_p=0.9, \n",
    "                                                         temperature=0.9\n",
    "                                                       ),\n",
    "                                         skip_special_tokens=True,\n",
    "                                        pad_token_id = '')[0]\n",
    "    \n",
    "    \n",
    "    ind_out = outputs.find('### Response:')+13\n",
    "    # print(f'predicted: {outputs[ind_out:ind_out+ground_truth_len]}')\n",
    "    predicted.append(outputs[ind_out:ind_out+ground_truth_len])"
   ]
  },
  {
   "cell_type": "code",
   "execution_count": null,
   "id": "5759e116-9458-4f66-95fe-2dabea2b55ca",
   "metadata": {},
   "outputs": [],
   "source": [
    "results = pd.DataFrame()\n",
    "results['groundTruth'] = ground_truth\n",
    "results['predicted'] = predicted\n",
    "\n",
    "results.to_csv('predicted_value_imputation.csv', index=False)"
   ]
  },
  {
   "cell_type": "code",
   "execution_count": 16,
   "id": "36f22ea2-6f8a-41e8-b093-1a4b87064bd4",
   "metadata": {},
   "outputs": [],
   "source": [
    "results = pd.read_csv('predicted_value_imputation.csv')"
   ]
  },
  {
   "cell_type": "code",
   "execution_count": 17,
   "id": "3829a8f5-6c44-4b02-a432-134313b8f1b3",
   "metadata": {},
   "outputs": [],
   "source": [
    "# !pip install evaluate\n",
    "# !pip install sklearn\n",
    "# !pip install scikit-learn"
   ]
  },
  {
   "cell_type": "code",
   "execution_count": 18,
   "id": "29a9a876-c9f6-4203-823e-a33a4aefe74c",
   "metadata": {},
   "outputs": [
    {
     "data": {
      "text/plain": [
       "Index(['groundTruth', 'predicted'], dtype='object')"
      ]
     },
     "execution_count": 18,
     "metadata": {},
     "output_type": "execute_result"
    }
   ],
   "source": [
    "results.columns"
   ]
  },
  {
   "cell_type": "code",
   "execution_count": 19,
   "id": "1f2bf92f-60c6-4e67-9eca-1efd60d32756",
   "metadata": {},
   "outputs": [],
   "source": [
    "import evaluate\n",
    "# accuracy = evaluate.load('accuracy')\n",
    "clf_metrics = evaluate.combine([\"accuracy\"])#, \"f1\", \"precision\", \"recall\"])"
   ]
  },
  {
   "cell_type": "code",
   "execution_count": 20,
   "id": "161710be-dd66-44c9-b562-4f0cdd137dda",
   "metadata": {},
   "outputs": [],
   "source": [
    "# for i in range(results.shape[0]):\n",
    "for ref, pred in zip(tokenizer(results.groundTruth.to_list())['input_ids'], tokenizer(results.predicted.to_list())['input_ids']):\n",
    "    min_len = min(len(ref), len(pred))\n",
    "    clf_metrics.add_batch(references=ref[:min_len], predictions=pred[:min_len])\n"
   ]
  },
  {
   "cell_type": "code",
   "execution_count": 21,
   "id": "839a6f8b-1871-4d1d-a808-c9d773667ab6",
   "metadata": {},
   "outputs": [
    {
     "name": "stdout",
     "output_type": "stream",
     "text": [
      "Overall prediction accuracy: {'accuracy': 0.7306103175540077}\n"
     ]
    }
   ],
   "source": [
    "print(f'Overall prediction accuracy: {clf_metrics.compute()}')"
   ]
  },
  {
   "cell_type": "code",
   "execution_count": null,
   "id": "1ddf936f-825a-43d4-bce1-6727398c92c0",
   "metadata": {},
   "outputs": [],
   "source": []
  }
 ],
 "metadata": {
  "kernelspec": {
   "display_name": "Python 3 (ipykernel)",
   "language": "python",
   "name": "python3"
  },
  "language_info": {
   "codemirror_mode": {
    "name": "ipython",
    "version": 3
   },
   "file_extension": ".py",
   "mimetype": "text/x-python",
   "name": "python",
   "nbconvert_exporter": "python",
   "pygments_lexer": "ipython3",
   "version": "3.10.13"
  }
 },
 "nbformat": 4,
 "nbformat_minor": 5
}
